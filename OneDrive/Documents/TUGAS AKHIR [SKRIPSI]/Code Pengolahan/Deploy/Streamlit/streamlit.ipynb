{
 "cells": [
  {
   "cell_type": "code",
   "execution_count": 1,
   "metadata": {},
   "outputs": [],
   "source": [
    "import streamlit"
   ]
  },
  {
   "cell_type": "code",
   "execution_count": 1,
   "metadata": {},
   "outputs": [
    {
     "name": "stdout",
     "output_type": "stream",
     "text": [
      "Collecting streamlit\n",
      "  Using cached streamlit-1.8.1-py2.py3-none-any.whl (10.1 MB)\n",
      "Collecting importlib-metadata>=1.4\n",
      "  Using cached importlib_metadata-4.11.3-py3-none-any.whl (18 kB)\n",
      "Collecting toml\n",
      "  Using cached toml-0.10.2-py2.py3-none-any.whl (16 kB)\n",
      "Requirement already satisfied: packaging in c:\\users\\bonda\\miniconda3\\envs\\tugas_akhir\\lib\\site-packages (from streamlit) (21.3)\n",
      "Collecting requests\n",
      "  Using cached requests-2.27.1-py2.py3-none-any.whl (63 kB)\n",
      "Requirement already satisfied: tornado>=5.0 in c:\\users\\bonda\\miniconda3\\envs\\tugas_akhir\\lib\\site-packages (from streamlit) (6.1)\n",
      "Collecting click<8.1,>=7.0\n",
      "  Using cached click-8.0.4-py3-none-any.whl (97 kB)\n",
      "Collecting pympler>=0.9\n",
      "  Using cached Pympler-1.0.1-py3-none-any.whl (164 kB)\n",
      "Collecting attrs\n",
      "  Using cached attrs-21.4.0-py2.py3-none-any.whl (60 kB)\n",
      "Requirement already satisfied: python-dateutil in c:\\users\\bonda\\miniconda3\\envs\\tugas_akhir\\lib\\site-packages (from streamlit) (2.8.2)\n",
      "Collecting tzlocal\n",
      "  Using cached tzlocal-4.2-py3-none-any.whl (19 kB)\n",
      "Collecting watchdog\n",
      "  Using cached watchdog-2.1.7-py3-none-win_amd64.whl (76 kB)Note: you may need to restart the kernel to use updated packages.\n",
      "Collecting blinker\n",
      "  Using cached blinker-1.4-py3-none-any.whl\n",
      "Collecting validators\n",
      "\n"
     ]
    },
    {
     "name": "stderr",
     "output_type": "stream",
     "text": [
      "ERROR: Could not install packages due to an OSError: [Errno 2] No such file or directory: 'c:\\\\users\\\\bonda\\\\miniconda3\\\\envs\\\\tugas_akhir\\\\lib\\\\site-packages\\\\numpy-1.22.3.dist-info\\\\METADATA'\n",
      "\n"
     ]
    },
    {
     "name": "stdout",
     "output_type": "stream",
     "text": [
      "  Using cached validators-0.18.2-py3-none-any.whl (19 kB)\n",
      "Collecting pydeck>=0.1.dev5\n",
      "  Using cached pydeck-0.7.1-py2.py3-none-any.whl (4.3 MB)\n",
      "Collecting pyarrow\n",
      "  Using cached pyarrow-7.0.0-cp39-cp39-win_amd64.whl (16.1 MB)\n",
      "Requirement already satisfied: numpy in c:\\users\\bonda\\miniconda3\\envs\\tugas_akhir\\lib\\site-packages (from streamlit) (1.22.3)\n",
      "Requirement already satisfied: pillow>=6.2.0 in c:\\users\\bonda\\miniconda3\\envs\\tugas_akhir\\lib\\site-packages (from streamlit) (9.0.1)\n",
      "Collecting altair>=3.2.0\n",
      "  Using cached altair-4.2.0-py3-none-any.whl (812 kB)\n",
      "Collecting gitpython!=3.1.19\n",
      "  Using cached GitPython-3.1.27-py3-none-any.whl (181 kB)\n",
      "Collecting protobuf!=3.11,>=3.6.0\n",
      "  Using cached protobuf-3.20.0-cp39-cp39-win_amd64.whl (904 kB)\n",
      "Requirement already satisfied: pandas>=0.21.0 in c:\\users\\bonda\\miniconda3\\envs\\tugas_akhir\\lib\\site-packages (from streamlit) (1.4.2)\n",
      "Collecting semver\n",
      "  Using cached semver-2.13.0-py2.py3-none-any.whl (12 kB)\n",
      "Collecting cachetools>=4.0\n",
      "  Using cached cachetools-5.0.0-py3-none-any.whl (9.1 kB)\n",
      "Requirement already satisfied: entrypoints in c:\\users\\bonda\\miniconda3\\envs\\tugas_akhir\\lib\\site-packages (from altair>=3.2.0->streamlit) (0.3)\n",
      "Collecting toolz\n",
      "  Using cached toolz-0.11.2-py3-none-any.whl (55 kB)\n",
      "Collecting jinja2\n",
      "  Using cached Jinja2-3.1.1-py3-none-any.whl (132 kB)\n",
      "Collecting jsonschema>=3.0\n",
      "  Using cached jsonschema-4.4.0-py3-none-any.whl (72 kB)\n",
      "Requirement already satisfied: colorama in c:\\users\\bonda\\miniconda3\\envs\\tugas_akhir\\lib\\site-packages (from click<8.1,>=7.0->streamlit) (0.4.4)\n",
      "Collecting gitdb<5,>=4.0.1\n",
      "  Using cached gitdb-4.0.9-py3-none-any.whl (63 kB)\n",
      "Collecting zipp>=0.5\n",
      "  Using cached zipp-3.8.0-py3-none-any.whl (5.4 kB)\n",
      "Requirement already satisfied: pytz>=2020.1 in c:\\users\\bonda\\miniconda3\\envs\\tugas_akhir\\lib\\site-packages (from pandas>=0.21.0->streamlit) (2022.1)\n"
     ]
    }
   ],
   "source": [
    "pip install streamlit"
   ]
  },
  {
   "cell_type": "code",
   "execution_count": 1,
   "metadata": {},
   "outputs": [
    {
     "name": "stderr",
     "output_type": "stream",
     "text": [
      "2022-04-03 15:37:11.831 \n",
      "  \u001b[33m\u001b[1mWarning:\u001b[0m to view this Streamlit app on a browser, run it with the following\n",
      "  command:\n",
      "\n",
      "    streamlit run C:\\Users\\bonda\\miniconda3\\envs\\stenv\\lib\\site-packages\\ipykernel_launcher.py [ARGUMENTS]\n"
     ]
    }
   ],
   "source": [
    "import streamlit as st\n",
    "\n",
    "st.write('Hello world!')"
   ]
  },
  {
   "cell_type": "code",
   "execution_count": 9,
   "metadata": {},
   "outputs": [
    {
     "ename": "IndentationError",
     "evalue": "expected an indented block (2175366004.py, line 8)",
     "output_type": "error",
     "traceback": [
      "\u001b[1;36m  Input \u001b[1;32mIn [9]\u001b[1;36m\u001b[0m\n\u001b[1;33m    if __name__ == '__main__':\u001b[0m\n\u001b[1;37m    ^\u001b[0m\n\u001b[1;31mIndentationError\u001b[0m\u001b[1;31m:\u001b[0m expected an indented block\n"
     ]
    }
   ],
   "source": [
    "import sys\n",
    "from streamlit import cli as stcli\n",
    "import streamlit\n",
    "    \n",
    "def main():\n",
    "# Your streamlit code\n",
    "\n",
    "if __name__ == '__main__':\n",
    "    if streamlit._is_running_with_streamlit:\n",
    "        main()\n",
    "    else:\n",
    "        sys.argv = [\"streamlit\", \"run\", sys.argv[0]]\n",
    "        sys.exit(stcli.main())"
   ]
  },
  {
   "cell_type": "code",
   "execution_count": 7,
   "metadata": {},
   "outputs": [
    {
     "ename": "SyntaxError",
     "evalue": "invalid syntax (2482160671.py, line 1)",
     "output_type": "error",
     "traceback": [
      "\u001b[1;36m  Input \u001b[1;32mIn [7]\u001b[1;36m\u001b[0m\n\u001b[1;33m    streamlit run streamlit_app.py\u001b[0m\n\u001b[1;37m              ^\u001b[0m\n\u001b[1;31mSyntaxError\u001b[0m\u001b[1;31m:\u001b[0m invalid syntax\n"
     ]
    }
   ],
   "source": [
    "streamlit run streamlit_app.py\n"
   ]
  },
  {
   "cell_type": "code",
   "execution_count": 6,
   "metadata": {},
   "outputs": [
    {
     "ename": "SyntaxError",
     "evalue": "invalid syntax (4131392471.py, line 1)",
     "output_type": "error",
     "traceback": [
      "\u001b[1;36m  Input \u001b[1;32mIn [6]\u001b[1;36m\u001b[0m\n\u001b[1;33m    streamlit run 'C:\\Users\\bonda\\miniconda3\\envs\\stenv\\lib\\site-packages\\ipykernel_launcher.py'\u001b[0m\n\u001b[1;37m              ^\u001b[0m\n\u001b[1;31mSyntaxError\u001b[0m\u001b[1;31m:\u001b[0m invalid syntax\n"
     ]
    }
   ],
   "source": [
    "streamlit run 'C:\\Users\\bonda\\miniconda3\\envs\\stenv\\lib\\site-packages\\ipykernel_launcher.py'"
   ]
  }
 ],
 "metadata": {
  "interpreter": {
   "hash": "51c00c78ab0ec18503be7258d4304fcb8578fd9c01a4bcee1a13f3857add2dfb"
  },
  "kernelspec": {
   "display_name": "Python 3.9.11 ('stenv')",
   "language": "python",
   "name": "python3"
  },
  "language_info": {
   "codemirror_mode": {
    "name": "ipython",
    "version": 3
   },
   "file_extension": ".py",
   "mimetype": "text/x-python",
   "name": "python",
   "nbconvert_exporter": "python",
   "pygments_lexer": "ipython3",
   "version": "3.9.11"
  },
  "orig_nbformat": 4
 },
 "nbformat": 4,
 "nbformat_minor": 2
}
