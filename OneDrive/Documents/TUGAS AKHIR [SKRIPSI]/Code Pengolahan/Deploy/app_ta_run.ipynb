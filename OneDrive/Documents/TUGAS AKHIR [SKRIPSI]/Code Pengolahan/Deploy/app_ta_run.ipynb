{
 "cells": [
  {
   "cell_type": "code",
   "execution_count": 23,
   "metadata": {},
   "outputs": [
    {
     "name": "stdout",
     "output_type": "stream",
     "text": [
      "^C\n"
     ]
    }
   ],
   "source": [
    "!streamlit run app_ta.py"
   ]
  },
  {
   "cell_type": "code",
   "execution_count": 10,
   "metadata": {},
   "outputs": [
    {
     "name": "stdout",
     "output_type": "stream",
     "text": [
      "^C\n"
     ]
    }
   ],
   "source": [
    "!streamlit run GUI_Klasifikasi.py "
   ]
  },
  {
   "cell_type": "markdown",
   "metadata": {},
   "source": [
    "total waktu loading menunggu aplikasi muncul sekitar 01 menit 10 detik"
   ]
  },
  {
   "cell_type": "markdown",
   "metadata": {},
   "source": [
    "total waktu loading menunggu klasifikasi kurang lebih sekitar 52,20 detik"
   ]
  },
  {
   "cell_type": "markdown",
   "metadata": {},
   "source": [
    "environment use -> stenv(Python 3.9.11)"
   ]
  }
 ],
 "metadata": {
  "interpreter": {
   "hash": "d969570a0425e68342c0975239bad5fdde1d75e9851c5bbe9ec13b95784cbd39"
  },
  "kernelspec": {
   "display_name": "Python 3.9.11 ('stenv')",
   "language": "python",
   "name": "python3"
  },
  "language_info": {
   "codemirror_mode": {
    "name": "ipython",
    "version": 3
   },
   "file_extension": ".py",
   "mimetype": "text/x-python",
   "name": "python",
   "nbconvert_exporter": "python",
   "pygments_lexer": "ipython3",
   "version": "3.9.11"
  },
  "orig_nbformat": 4
 },
 "nbformat": 4,
 "nbformat_minor": 2
}
